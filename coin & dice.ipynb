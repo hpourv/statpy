{
 "cells": [
  {
   "cell_type": "markdown",
   "id": "269bd0c4",
   "metadata": {},
   "source": [
    "# Flipping a coin"
   ]
  },
  {
   "cell_type": "markdown",
   "id": "151a5711",
   "metadata": {},
   "source": [
    "In this section I want to flip a coin for n times and see the results"
   ]
  },
  {
   "cell_type": "code",
   "execution_count": 6,
   "id": "f0bfb9a4",
   "metadata": {},
   "outputs": [],
   "source": [
    "import numpy as np\n",
    "import random"
   ]
  },
  {
   "cell_type": "code",
   "execution_count": 7,
   "id": "e8275f8d",
   "metadata": {},
   "outputs": [
    {
     "name": "stdout",
     "output_type": "stream",
     "text": [
      "num_head= 3 num_tale= 2\n"
     ]
    }
   ],
   "source": [
    "num_head=0 #number of head\n",
    "num_tale=0 #number of tale\n",
    "n=5 #number of flipping the coin\n",
    "for n in range(0,n):\n",
    "    \n",
    "    r=np.random.choice(2, 1, p=[0.5, 0.5])\n",
    "    if r==1:\n",
    "        num_head=num_head+1\n",
    "    else:\n",
    "        num_tale=num_tale+1\n",
    "print('num_head=',num_head,'num_tale=',num_tale);\n"
   ]
  },
  {
   "cell_type": "markdown",
   "id": "2b45f358",
   "metadata": {},
   "source": [
    "# Rolling a dice"
   ]
  },
  {
   "cell_type": "markdown",
   "id": "b3f19ddd",
   "metadata": {},
   "source": [
    "In this section, I want to roll a dice for n times and count the number of 6s"
   ]
  },
  {
   "cell_type": "code",
   "execution_count": 11,
   "id": "d7b07c0e",
   "metadata": {},
   "outputs": [],
   "source": [
    "import numpy as np\n",
    "import random"
   ]
  },
  {
   "cell_type": "code",
   "execution_count": 10,
   "id": "cd62291b",
   "metadata": {},
   "outputs": [
    {
     "name": "stdout",
     "output_type": "stream",
     "text": [
      "num= 10033\n"
     ]
    }
   ],
   "source": [
    "num=0\n",
    "n=60000\n",
    "for n in range(0,n):\n",
    "    \n",
    "    r=np.random.choice(6, 1, p=[1/6, 1/6, 1/6, 1/6, 1/6,1/6])\n",
    "    if r==5:\n",
    "        num=num+1\n",
    "\n",
    "print('num=',num);"
   ]
  },
  {
   "cell_type": "code",
   "execution_count": null,
   "id": "c398d164",
   "metadata": {},
   "outputs": [],
   "source": []
  }
 ],
 "metadata": {
  "kernelspec": {
   "display_name": "Python 3.9.5 64-bit",
   "language": "python",
   "name": "python39564bit7a81daff38074b47858aa72d7c4e9fff"
  },
  "language_info": {
   "codemirror_mode": {
    "name": "ipython",
    "version": 3
   },
   "file_extension": ".py",
   "mimetype": "text/x-python",
   "name": "python",
   "nbconvert_exporter": "python",
   "pygments_lexer": "ipython3",
   "version": "3.9.6"
  }
 },
 "nbformat": 4,
 "nbformat_minor": 5
}
