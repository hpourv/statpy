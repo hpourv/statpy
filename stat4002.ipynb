{
 "cells": [
  {
   "cell_type": "code",
   "execution_count": 1,
   "id": "ff2520e1",
   "metadata": {},
   "outputs": [],
   "source": [
    "import numpy as np"
   ]
  },
  {
   "cell_type": "code",
   "execution_count": 2,
   "id": "7f294e19",
   "metadata": {},
   "outputs": [],
   "source": [
    "import random"
   ]
  },
  {
   "cell_type": "code",
   "execution_count": 38,
   "id": "3090070f",
   "metadata": {},
   "outputs": [],
   "source": [
    "mylist = (\"Head\",\"Tail\")"
   ]
  },
  {
   "cell_type": "code",
   "execution_count": 40,
   "id": "db79ee85",
   "metadata": {},
   "outputs": [
    {
     "data": {
      "text/plain": [
       "'Head'"
      ]
     },
     "execution_count": 40,
     "metadata": {},
     "output_type": "execute_result"
    }
   ],
   "source": [
    "random.choice(mylist)"
   ]
  },
  {
   "cell_type": "code",
   "execution_count": 26,
   "id": "536ec4db",
   "metadata": {},
   "outputs": [
    {
     "data": {
      "text/plain": [
       "array([0, 1, 3])"
      ]
     },
     "execution_count": 26,
     "metadata": {},
     "output_type": "execute_result"
    }
   ],
   "source": [
    "np.random.choice(5, 3) #uniform random sample"
   ]
  },
  {
   "cell_type": "code",
   "execution_count": 87,
   "id": "ee93e6b9",
   "metadata": {},
   "outputs": [
    {
     "name": "stdout",
     "output_type": "stream",
     "text": [
      "num_head= 3 num_tale= 2 error= 0.25\n"
     ]
    }
   ],
   "source": [
    "num_head=0\n",
    "num_tale=0\n",
    "i=5\n",
    "for i in range(0,i):\n",
    "    \n",
    "    r=np.random.choice(2, 1, p=[0.5, 0.5])\n",
    "    if r==1:\n",
    "        num_head=num_head+1\n",
    "    else:\n",
    "        num_tale=num_tale+1\n",
    "differ = abs(num_head-num_tale);\n",
    "error = differ/i;\n",
    "print('num_head=',num_head,'num_tale=',num_tale, 'error=',error);\n"
   ]
  },
  {
   "cell_type": "code",
   "execution_count": 93,
   "id": "e3dac217",
   "metadata": {},
   "outputs": [
    {
     "data": {
      "text/plain": [
       "array([0])"
      ]
     },
     "execution_count": 93,
     "metadata": {},
     "output_type": "execute_result"
    }
   ],
   "source": [
    "np.random.choice(6, 1, p=[1/6, 1/6, 1/6, 1/6, 1/6,1/6])"
   ]
  },
  {
   "cell_type": "code",
   "execution_count": 107,
   "id": "5e0aac0b",
   "metadata": {},
   "outputs": [
    {
     "name": "stdout",
     "output_type": "stream",
     "text": [
      "num= 10047\n"
     ]
    }
   ],
   "source": [
    "num=0\n",
    "i=60000\n",
    "for i in range(0,i):\n",
    "    \n",
    "    r=np.random.choice(6, 1, p=[1/6, 1/6, 1/6, 1/6, 1/6,1/6])\n",
    "    if r==5:\n",
    "        num=num+1\n",
    "   \n",
    "\n",
    "print('num=',num);"
   ]
  },
  {
   "cell_type": "code",
   "execution_count": null,
   "id": "c05ac65d",
   "metadata": {},
   "outputs": [],
   "source": []
  },
  {
   "cell_type": "code",
   "execution_count": null,
   "id": "5dd5f187",
   "metadata": {},
   "outputs": [],
   "source": []
  }
 ],
 "metadata": {
  "kernelspec": {
   "display_name": "Python 3.9.5 64-bit",
   "language": "python",
   "name": "python39564bit7a81daff38074b47858aa72d7c4e9fff"
  },
  "language_info": {
   "codemirror_mode": {
    "name": "ipython",
    "version": 3
   },
   "file_extension": ".py",
   "mimetype": "text/x-python",
   "name": "python",
   "nbconvert_exporter": "python",
   "pygments_lexer": "ipython3",
   "version": "3.9.6"
  }
 },
 "nbformat": 4,
 "nbformat_minor": 5
}
